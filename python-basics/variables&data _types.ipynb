{
 "cells": [
  {
   "cell_type": "markdown",
   "metadata": {},
   "source": [
    "## Python variables and data types"
   ]
  },
  {
   "cell_type": "markdown",
   "metadata": {},
   "source": [
    "## The id() function\n",
    "Now, there's also an interesting aspect related to memory addresses. If we were to assign the value 13 to y, the memory pointer would be the same for y as for x. We can test and visualise this using the id() function."
   ]
  },
  {
   "cell_type": "code",
   "execution_count": 4,
   "metadata": {},
   "outputs": [
    {
     "name": "stdout",
     "output_type": "stream",
     "text": [
      "y:4339133328 x: 4339133104\n"
     ]
    }
   ],
   "source": [
    "y = 20\n",
    "x = 13\n",
    "print(f'y:{id(y)} x: {id(x)}') "
   ]
  },
  {
   "cell_type": "code",
   "execution_count": 5,
   "metadata": {},
   "outputs": [
    {
     "name": "stdout",
     "output_type": "stream",
     "text": [
      "4339132848\n"
     ]
    }
   ],
   "source": [
    "x = 5\n",
    "print(id(x))"
   ]
  },
  {
   "cell_type": "markdown",
   "metadata": {},
   "source": [
    "### Memory allocation and memory pointer\n",
    "Memory allocation: When a variable is declared in Python, the interpreter allocates a section of the computer's memory to store the data associated with that variable. This reserved space is where the value of the variable is stored during the program's execution.\n",
    "\n",
    "**Memory pointer**: The memory pointer, in simple terms, is like an address label for the allocated memory space. It points to the exact location in the computer's memory where the variable's data is stored. This pointer allows the program to efficiently access and retrieve the stored information when needed.\n",
    "\n",
    "For example, when the variable x in Figure 1 is assigned the value of 5, Python allocates a specific memory space to store this integer value. The memory pointer associated with x then points to the starting address of this allocated memory, facilitating easy retrieval and manipulation of the stored data during the program's execution.\n",
    "For example, when the variable `x` in *Figure 1* is assigned the value of `5`, Python allocates a specific memory space to store this integer value. The memory pointer associated with `x` then points to the starting address of this allocated memory, facilitating easy retrieval and manipulation of the stored data during the program's execution.\n",
    "\n",
    "<div align=\"center\" style=\"width: 450px; font-size: 80%; text-align: center; margin: 0 auto\">\n",
    "<img src=\"https://raw.githubusercontent.com/Explore-AI/Pictures/master/OOP_memory_allocation.jpg\"\n",
    "     alt=\"Variable assignment\"\n",
    "     style=\"float: center; padding-bottom=0.5em\"\n",
    "     width=450px/>\n",
    "<em> Memory allocation and pointer </em>\n",
    "</div>\n",
    "\n"
   ]
  },
  {
   "cell_type": "markdown",
   "metadata": {},
   "source": [
    "## Data types\n",
    "\n",
    "Like other programming languages, variables in Python have **values** and **types**. **Data types** dictate what **kind of data a variable can store** and, in some cases, the **amount of memory** allocated to it. Allocating variable types allows us to make assumptions about the **kind of operations** that can be applied to a given variable. \n",
    "\n",
    "Python makes use of five primitive variable types:\n",
    "* Integers\n",
    "* Floats \n",
    "* Complex numbers\n",
    "* Strings\n",
    "* Booleans"
   ]
  },
  {
   "cell_type": "markdown",
   "metadata": {},
   "source": [
    "#### (a) Numbers\n",
    "\n",
    "Three main data types exist to store numerical data:\n",
    "\n",
    "1. **Integers (ints)**: These are positive or negative whole numbers with no fractional components. By using built-in functions in Python, such as  `type()`,  we can determine if a number is an integer or a float, for example, 5, -10. \n",
    "\n",
    "2. **Floats**: This is another numerical data type that is used to represent real numbers. A decimal point is used to divide the integer and fractional components of the value, for example, 3.14, -0.5.\n",
    "\n",
    "3. **Complex numbers**: A complex number is a distinct data type used to represent numbers in the form `a + bj`, where `a` and `b` are real numbers, and `j` is the imaginary unit (for example, the square root of -1). Complex numbers play a crucial role in various mathematical and engineering applications, and Python provides native support for them, for example, 2 + 3j, 1 - 1j."
   ]
  },
  {
   "cell_type": "markdown",
   "metadata": {},
   "source": [
    "#### (b) Strings\n",
    "\n",
    "Strings in Python are **sequences of characters enclosed in quotes**, either single (') or double (\"). They are versatile and widely used for representing textual data.\n",
    "\n",
    "Characteristics of strings include:"
   ]
  },
  {
   "cell_type": "code",
   "execution_count": 6,
   "metadata": {},
   "outputs": [
    {
     "name": "stdout",
     "output_type": "stream",
     "text": [
      "Hello, Python!\n"
     ]
    }
   ],
   "source": [
    "# Example\n",
    "hello_string = \"Hello, Python!\"\n",
    "\n",
    "# Print the value of hello_string\n",
    "print(hello_string)"
   ]
  },
  {
   "cell_type": "markdown",
   "metadata": {},
   "source": [
    "* **Immutable**: Once a string is defined, its content cannot be changed. Any operation that appears to modify a string actually creates a new string."
   ]
  },
  {
   "cell_type": "code",
   "execution_count": 7,
   "metadata": {},
   "outputs": [
    {
     "name": "stdout",
     "output_type": "stream",
     "text": [
      "Hello\n",
      "Hello, Python!\n"
     ]
    }
   ],
   "source": [
    "# Example\n",
    "original_string = \"Hello\"\n",
    "modified_string = original_string + \", Python!\"\n",
    "\n",
    "# Print the values of our variables\n",
    "print(original_string)\n",
    "print(modified_string)"
   ]
  },
  {
   "cell_type": "markdown",
   "metadata": {},
   "source": [
    "#### (c) Booleans\n",
    "\n",
    "Booleans are built-in data types capable of taking one of two possible values: `True` or `False`(interchangeable with the integers `1` and `0`). Booleans control the flow of a program and are used to make comparisons, showing that despite the fancy name (nicknamed `bool` in Python) they play an integral role. \n",
    "\n",
    "Boolean data types can be used with `comparison` and `logical` operators: "
   ]
  },
  {
   "cell_type": "markdown",
   "metadata": {},
   "source": [
    "|Logical operators |Description |\n",
    "|---|---|\n",
    "|**and** | True if both are true(`x and y`). This operator is used to check whether both conditions are true.|\n",
    "|**or**  | True if at least one is true (`x or y`). This operator is used to check if either of the conditions is true. |\n",
    "|**not** | True only if false (`not x`). This operator is used to check for inequality.  |\n",
    "\n",
    "These boolean operators will either equate to `True` if the condition is met or `False` if the condition is not met. "
   ]
  },
  {
   "cell_type": "markdown",
   "metadata": {},
   "source": [
    "|Comparison operators |Description |\n",
    "|---|---|\n",
    "|**==** | Equal to |\n",
    "|**!=**  | Not equal to |\n",
    "|**<** | Less than  |\n",
    "|**>**  | Greater than |\n",
    "|**<=** | Less than or equal to|\n",
    "|**>=** | Greater than or equal to  |"
   ]
  },
  {
   "cell_type": "code",
   "execution_count": 10,
   "metadata": {},
   "outputs": [
    {
     "data": {
      "text/plain": [
       "False"
      ]
     },
     "execution_count": 10,
     "metadata": {},
     "output_type": "execute_result"
    }
   ],
   "source": [
    "not 1+1==2\n"
   ]
  },
  {
   "cell_type": "markdown",
   "metadata": {},
   "source": [
    "## data type with the type() function"
   ]
  },
  {
   "cell_type": "markdown",
   "metadata": {},
   "source": [
    "Before we delve into casting variables, let's see how we can determine the data type of a variable using the built-in type() function.\n",
    "\n",
    "<a>Syntax:</a>\n",
    "\n",
    "\n",
    "variable_type = type(variable)"
   ]
  },
  {
   "cell_type": "code",
   "execution_count": 11,
   "metadata": {},
   "outputs": [
    {
     "name": "stdout",
     "output_type": "stream",
     "text": [
      "<class 'int'>\n",
      "<class 'str'>\n",
      "<class 'float'>\n"
     ]
    }
   ],
   "source": [
    "# Example: Using type() to determine data type\n",
    "\n",
    "int_variable = 42\n",
    "string_variable = \"Hello, World!\"\n",
    "float_variable = 3.14\n",
    "\n",
    "print(type(int_variable))\n",
    "print(type(string_variable))\n",
    "print(type(float_variable))"
   ]
  },
  {
   "cell_type": "markdown",
   "metadata": {},
   "source": [
    "### 1. Specifying the data type\n",
    "Python is a dynamically typed language, meaning that it does not require a pre-defined data type for any variable, as it is interpreted by the machine itself at runtime.\n",
    "\n",
    "However, in some cases, we may need to specify the data type of a variable explicitly. This is especially useful when we want to ensure that a variable is treated in a specific way.\n",
    "\n",
    "<a>Syntax:</a>\n",
    "\n",
    "variable_name = data_type(value)"
   ]
  },
  {
   "cell_type": "code",
   "execution_count": 12,
   "metadata": {},
   "outputs": [
    {
     "name": "stdout",
     "output_type": "stream",
     "text": [
      "3 : <class 'int'>\n",
      "42.42 : <class 'float'>\n",
      "123 : <class 'str'>\n"
     ]
    }
   ],
   "source": [
    "# Example: Specifying data type\n",
    "integer_variable = int(3.14)\n",
    "float_variable = float(\"42.42\")\n",
    "string_variable = str(123)\n",
    "\n",
    "# Print the variable and its data type. \n",
    "# Use colon (:) as separator \n",
    "print(integer_variable,\":\", type(int_variable))\n",
    "print(float_variable, \":\", type(float_variable))\n",
    "print(string_variable, \":\", type(string_variable))"
   ]
  },
  {
   "cell_type": "markdown",
   "metadata": {},
   "source": [
    "### 2. Converting data types\n",
    "Converting data types is the process of changing a variable's type from one to another, normally performed implictly during data manipulation or processing, by the compiler."
   ]
  },
  {
   "cell_type": "code",
   "execution_count": 13,
   "metadata": {},
   "outputs": [
    {
     "name": "stdout",
     "output_type": "stream",
     "text": [
      "5 : <class 'int'>\n",
      "10 : <class 'int'>\n",
      "2.0 : <class 'float'>\n"
     ]
    }
   ],
   "source": [
    "# Example: Converting data type\n",
    "integer1 = 5\n",
    "integer2 = 10\n",
    "answer = integer2/integer1\n",
    "\n",
    "# Print the variable and its data type. \n",
    "# Use colon (:) as separator \n",
    "print(integer1,\":\", type(integer1))\n",
    "print(integer2, \":\", type(integer2))\n",
    "print(answer, \":\", type(answer))"
   ]
  },
  {
   "cell_type": "markdown",
   "metadata": {},
   "source": [
    "### 3. Casting data types\n",
    "Casting data types is similar to converting but implies a more explicit or forceful change in type, normally actioned by the user.\n",
    "\n",
    "<a>Syntax:</a>\n",
    "\n",
    "new_variable = target_data_type(existing_variable)\n"
   ]
  },
  {
   "cell_type": "code",
   "execution_count": 14,
   "metadata": {},
   "outputs": [
    {
     "name": "stdout",
     "output_type": "stream",
     "text": [
      "42.0 : <class 'float'>\n",
      "3 : <class 'int'>\n"
     ]
    }
   ],
   "source": [
    "# Example: Casting data types\n",
    "float_result = float(\"42\")\n",
    "integer_from_float_result = int(float(\"3.14\"))\n",
    "\n",
    "# Print the variable and its data type. \n",
    "# Use colon (:) as separator \n",
    "print(float_result,\":\", type(float_result))\n",
    "print(integer_from_float_result, \":\", type(integer_from_float_result))"
   ]
  },
  {
   "cell_type": "code",
   "execution_count": 18,
   "metadata": {},
   "outputs": [
    {
     "name": "stdout",
     "output_type": "stream",
     "text": [
      "3 : <class 'int'>\n"
     ]
    }
   ],
   "source": [
    "integer_result = int(float(\"3.14\"))\n",
    "\n",
    "# Print the variable and its data type. \n",
    "# Use colon (:) as separator \n",
    "print(integer_result,\":\", type(integer_result))"
   ]
  },
  {
   "cell_type": "markdown",
   "metadata": {},
   "source": [
    "#### Introduction\n",
    "String manipulation techniques refer to the various operations and methods used to modify, combine, or extract information from strings in a programming language. In the context of Python, here are some common string manipulation techniques"
   ]
  },
  {
   "cell_type": "markdown",
   "metadata": {},
   "source": [
    "**1. Replication**"
   ]
  },
  {
   "cell_type": "code",
   "execution_count": 34,
   "metadata": {},
   "outputs": [
    {
     "name": "stdout",
     "output_type": "stream",
     "text": [
      "PythonPythonPython\n"
     ]
    }
   ],
   "source": [
    "# Example: replication\n",
    "\n",
    "original_string = \"Python\"\n",
    "replicated_string = original_string * 3\n",
    "print(replicated_string)"
   ]
  },
  {
   "cell_type": "markdown",
   "metadata": {},
   "source": [
    "**2. Concatenation**"
   ]
  },
  {
   "cell_type": "code",
   "execution_count": 35,
   "metadata": {},
   "outputs": [
    {
     "name": "stdout",
     "output_type": "stream",
     "text": [
      "Hello World\n"
     ]
    }
   ],
   "source": [
    "# Example: concatenation\n",
    "\n",
    "string1 = \"Hello\"\n",
    "string2 = \"World\"\n",
    "result = string1 + \" \" + string2\n",
    "print(result)"
   ]
  },
  {
   "cell_type": "markdown",
   "metadata": {},
   "source": [
    "**3. Slicing**\n",
    "\n",
    "String slicing is the process of extracting specific portions of a string. It allows us to work with substrings and manipulate parts of a string as needed. Slicing in Python is done using square brackets []."
   ]
  },
  {
   "cell_type": "code",
   "execution_count": 39,
   "metadata": {},
   "outputs": [
    {
     "name": "stdout",
     "output_type": "stream",
     "text": [
      "Python\n"
     ]
    }
   ],
   "source": [
    "# Example: slicing – positive indexing\n",
    "\n",
    "text = \"Python is amazing\"\n",
    "substring = text[0:6]\n",
    "\n",
    "print(substring)"
   ]
  },
  {
   "cell_type": "code",
   "execution_count": 40,
   "metadata": {},
   "outputs": [
    {
     "name": "stdout",
     "output_type": "stream",
     "text": [
      "amazin\n"
     ]
    }
   ],
   "source": [
    "# Example: slicing – negative indexing 1\n",
    "\n",
    "text = \"Python is amazing\"\n",
    "substring = text[-7:-1]\n",
    "print(substring)"
   ]
  },
  {
   "cell_type": "markdown",
   "metadata": {},
   "source": [
    "### Built-in string methods"
   ]
  },
  {
   "cell_type": "markdown",
   "metadata": {},
   "source": [
    "**1. upper()**"
   ]
  },
  {
   "cell_type": "code",
   "execution_count": 42,
   "metadata": {},
   "outputs": [
    {
     "name": "stdout",
     "output_type": "stream",
     "text": [
      "HELLO, WORLD!\n"
     ]
    }
   ],
   "source": [
    "# Example: upper() method\n",
    "\n",
    "original_string = \"hello, world!\"\n",
    "uppercase_string = original_string.upper()\n",
    "print(uppercase_string)"
   ]
  },
  {
   "cell_type": "markdown",
   "metadata": {},
   "source": [
    "**2. lower()**"
   ]
  },
  {
   "cell_type": "code",
   "execution_count": 43,
   "metadata": {},
   "outputs": [
    {
     "name": "stdout",
     "output_type": "stream",
     "text": [
      "hello, world!\n"
     ]
    }
   ],
   "source": [
    "# Example: lower() method\n",
    "\n",
    "original_string = \"Hello, World!\"\n",
    "lowercase_string = original_string.lower()\n",
    "print(lowercase_string)"
   ]
  },
  {
   "cell_type": "code",
   "execution_count": null,
   "metadata": {},
   "outputs": [],
   "source": []
  },
  {
   "cell_type": "markdown",
   "metadata": {},
   "source": [
    "**3. capitalize()**"
   ]
  },
  {
   "cell_type": "code",
   "execution_count": 44,
   "metadata": {},
   "outputs": [
    {
     "name": "stdout",
     "output_type": "stream",
     "text": [
      "Hello, world!\n"
     ]
    }
   ],
   "source": [
    "# Example: capitalize() method\n",
    "\n",
    "original_string = \"hello, world!\"\n",
    "capitalised_string = original_string.capitalize()\n",
    "print(capitalised_string)"
   ]
  },
  {
   "cell_type": "markdown",
   "metadata": {},
   "source": [
    "**4. strip()**"
   ]
  },
  {
   "cell_type": "code",
   "execution_count": 45,
   "metadata": {},
   "outputs": [
    {
     "name": "stdout",
     "output_type": "stream",
     "text": [
      "This is a sentence with spaces.\n"
     ]
    }
   ],
   "source": [
    "# Example: strip() method\n",
    "\n",
    "raw_input = \"    This is a sentence with spaces.    \"\n",
    "trimmed_input = raw_input.strip()\n",
    "print(trimmed_input)"
   ]
  },
  {
   "cell_type": "markdown",
   "metadata": {},
   "source": [
    "**5. replace()**"
   ]
  },
  {
   "cell_type": "code",
   "execution_count": 46,
   "metadata": {},
   "outputs": [
    {
     "name": "stdout",
     "output_type": "stream",
     "text": [
      "JavaScript is a powerful programming language.\n"
     ]
    }
   ],
   "source": [
    "# Example: replace() method\n",
    "\n",
    "original_text = \"Python is a powerful programming language.\"\n",
    "modified_text = original_text.replace(\"Python\", \"JavaScript\")\n",
    "print(modified_text)"
   ]
  },
  {
   "cell_type": "markdown",
   "metadata": {},
   "source": [
    "**6. find()**"
   ]
  },
  {
   "cell_type": "code",
   "execution_count": 47,
   "metadata": {},
   "outputs": [
    {
     "name": "stdout",
     "output_type": "stream",
     "text": [
      "16\n"
     ]
    }
   ],
   "source": [
    "sentence = \"Searching for a keyword in this sentence.\"\n",
    "index = sentence.find(\"keyword\")\n",
    "print(index)"
   ]
  },
  {
   "cell_type": "markdown",
   "metadata": {},
   "source": [
    "**7.Title()**"
   ]
  },
  {
   "cell_type": "code",
   "execution_count": 50,
   "metadata": {},
   "outputs": [
    {
     "name": "stdout",
     "output_type": "stream",
     "text": [
      "Hello, World!\n"
     ]
    }
   ],
   "source": [
    "# Example: capitalize() method\n",
    "\n",
    "original_string = \"hello, world!\"\n",
    "title_string = original_string.title()\n",
    "print(title_string)"
   ]
  }
 ],
 "metadata": {
  "kernelspec": {
   "display_name": "Python 3",
   "language": "python",
   "name": "python3"
  },
  "language_info": {
   "codemirror_mode": {
    "name": "ipython",
    "version": 3
   },
   "file_extension": ".py",
   "mimetype": "text/x-python",
   "name": "python",
   "nbconvert_exporter": "python",
   "pygments_lexer": "ipython3",
   "version": "3.9.19"
  }
 },
 "nbformat": 4,
 "nbformat_minor": 2
}
